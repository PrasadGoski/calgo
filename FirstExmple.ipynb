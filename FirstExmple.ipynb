{
  "nbformat": 4,
  "nbformat_minor": 0,
  "metadata": {
    "colab": {
      "name": "FirstExmple.ipynb",
      "version": "0.3.2",
      "provenance": [],
      "include_colab_link": true
    },
    "kernelspec": {
      "name": "python3",
      "display_name": "Python 3"
    }
  },
  "cells": [
    {
      "cell_type": "markdown",
      "metadata": {
        "id": "view-in-github",
        "colab_type": "text"
      },
      "source": [
        "<a href=\"https://colab.research.google.com/github/PrasadGoski/calgo/blob/master/FirstExmple.ipynb\" target=\"_parent\"><img src=\"https://colab.research.google.com/assets/colab-badge.svg\" alt=\"Open In Colab\"/></a>"
      ]
    },
    {
      "metadata": {
        "id": "OVMuiZuXZ2N2",
        "colab_type": "text"
      },
      "cell_type": "markdown",
      "source": [
        "Tensorflow Keras MNST Example"
      ]
    },
    {
      "metadata": {
        "id": "K1a7JzfJZX9W",
        "colab_type": "code",
        "outputId": "7b11cc86-ebca-4c0c-8f7d-7feef3b3eff5",
        "colab": {
          "base_uri": "https://localhost:8080/",
          "height": 218
        }
      },
      "cell_type": "code",
      "source": [
        "import pandas as pd\n",
        "import tensorflow as tf\n",
        "# Load Dataset\n",
        "mnist = tf.keras.datasets.mnist\n",
        "# Convert from int to float\n",
        "(x_train, y_train), (x_test, y_test) = mnist.load_data()\n",
        "x_train, x_test = x_train / 255.0, x_test / 255.0\n",
        "# Build tf.keras model\n",
        "model = tf.keras.models.Sequential([\n",
        "  tf.keras.layers.Flatten(),\n",
        "  tf.keras.layers.Dense(512, activation=tf.nn.relu),\n",
        "  tf.keras.layers.Dropout(0.2),\n",
        "  tf.keras.layers.Dense(10, activation=tf.nn.softmax)\n",
        "])\n",
        "\n",
        "model.compile(optimizer='adam',\n",
        "              loss='sparse_categorical_crossentropy',\n",
        "              metrics=['accuracy'])\n",
        "# Train and evaluate \n",
        "model.fit(x_train, y_train, epochs=5)\n",
        "model.evaluate(x_test, y_test)"
      ],
      "execution_count": 0,
      "outputs": [
        {
          "output_type": "stream",
          "text": [
            "Epoch 1/5\n",
            "60000/60000 [==============================] - 14s 241us/step - loss: 0.2021 - acc: 0.9406\n",
            "Epoch 2/5\n",
            "60000/60000 [==============================] - 14s 232us/step - loss: 0.0802 - acc: 0.9756\n",
            "Epoch 3/5\n",
            "60000/60000 [==============================] - 14s 228us/step - loss: 0.0522 - acc: 0.9834\n",
            "Epoch 4/5\n",
            "60000/60000 [==============================] - 14s 225us/step - loss: 0.0369 - acc: 0.9882\n",
            "Epoch 5/5\n",
            "60000/60000 [==============================] - 14s 229us/step - loss: 0.0282 - acc: 0.9908\n",
            "10000/10000 [==============================] - 1s 53us/step\n"
          ],
          "name": "stdout"
        },
        {
          "output_type": "execute_result",
          "data": {
            "text/plain": [
              "[0.06372298076825682, 0.9806]"
            ]
          },
          "metadata": {
            "tags": []
          },
          "execution_count": 6
        }
      ]
    }
  ]
}